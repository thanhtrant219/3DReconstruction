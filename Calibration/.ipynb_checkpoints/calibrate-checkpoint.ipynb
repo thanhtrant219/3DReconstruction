{
 "cells": [
  {
   "cell_type": "code",
   "execution_count": 3,
   "id": "3026c3dd-3511-460a-8740-335a1809f1dc",
   "metadata": {},
   "outputs": [
    {
     "name": "stderr",
     "output_type": "stream",
     "text": [
      "  0%|          | 0/69 [00:00<?, ?it/s]"
     ]
    },
    {
     "name": "stdout",
     "output_type": "stream",
     "text": [
      "Image loaded, Analizying...\n"
     ]
    },
    {
     "name": "stderr",
     "output_type": "stream",
     "text": [
      "  1%|▏         | 1/69 [00:04<05:31,  4.88s/it]"
     ]
    },
    {
     "name": "stdout",
     "output_type": "stream",
     "text": [
      "Chessboard detected!\n",
      "./calibration_images/IMG_7784.JPG\n",
      "Image loaded, Analizying...\n"
     ]
    },
    {
     "name": "stderr",
     "output_type": "stream",
     "text": [
      "  3%|▎         | 2/69 [00:09<05:31,  4.95s/it]"
     ]
    },
    {
     "name": "stdout",
     "output_type": "stream",
     "text": [
      "Chessboard detected!\n",
      "./calibration_images/IMG_7790.JPG\n",
      "Image loaded, Analizying...\n"
     ]
    },
    {
     "name": "stderr",
     "output_type": "stream",
     "text": [
      "  4%|▍         | 3/69 [00:14<05:26,  4.94s/it]"
     ]
    },
    {
     "name": "stdout",
     "output_type": "stream",
     "text": [
      "Chessboard detected!\n",
      "./calibration_images/IMG_7814.JPG\n",
      "Image loaded, Analizying...\n"
     ]
    },
    {
     "name": "stderr",
     "output_type": "stream",
     "text": [
      "  6%|▌         | 4/69 [01:03<23:53, 22.05s/it]"
     ]
    },
    {
     "name": "stdout",
     "output_type": "stream",
     "text": [
      "Image loaded, Analizying...\n"
     ]
    },
    {
     "name": "stderr",
     "output_type": "stream",
     "text": [
      "  7%|▋         | 5/69 [01:07<16:48, 15.75s/it]"
     ]
    },
    {
     "name": "stdout",
     "output_type": "stream",
     "text": [
      "Chessboard detected!\n",
      "./calibration_images/IMG_7828.JPG\n",
      "Image loaded, Analizying...\n"
     ]
    },
    {
     "name": "stderr",
     "output_type": "stream",
     "text": [
      "  9%|▊         | 6/69 [01:13<13:01, 12.40s/it]"
     ]
    },
    {
     "name": "stdout",
     "output_type": "stream",
     "text": [
      "Chessboard detected!\n",
      "./calibration_images/IMG_7829.JPG\n",
      "Image loaded, Analizying...\n"
     ]
    },
    {
     "name": "stderr",
     "output_type": "stream",
     "text": [
      " 10%|█         | 7/69 [01:31<14:41, 14.21s/it]"
     ]
    },
    {
     "name": "stdout",
     "output_type": "stream",
     "text": [
      "Chessboard detected!\n",
      "./calibration_images/IMG_7801.JPG\n",
      "Image loaded, Analizying...\n"
     ]
    },
    {
     "name": "stderr",
     "output_type": "stream",
     "text": [
      " 12%|█▏        | 8/69 [01:36<11:31, 11.34s/it]"
     ]
    },
    {
     "name": "stdout",
     "output_type": "stream",
     "text": [
      "Chessboard detected!\n",
      "./calibration_images/IMG_7815.JPG\n",
      "Image loaded, Analizying...\n"
     ]
    },
    {
     "name": "stderr",
     "output_type": "stream",
     "text": [
      " 13%|█▎        | 9/69 [02:03<16:08, 16.15s/it]"
     ]
    },
    {
     "name": "stdout",
     "output_type": "stream",
     "text": [
      "Image loaded, Analizying...\n"
     ]
    },
    {
     "name": "stderr",
     "output_type": "stream",
     "text": [
      " 14%|█▍        | 10/69 [02:07<12:04, 12.28s/it]"
     ]
    },
    {
     "name": "stdout",
     "output_type": "stream",
     "text": [
      "Chessboard detected!\n",
      "./calibration_images/IMG_7785.JPG\n",
      "Image loaded, Analizying...\n"
     ]
    },
    {
     "name": "stderr",
     "output_type": "stream",
     "text": [
      " 16%|█▌        | 11/69 [15:46<4:10:43, 259.37s/it]"
     ]
    },
    {
     "name": "stdout",
     "output_type": "stream",
     "text": [
      "Image loaded, Analizying...\n"
     ]
    },
    {
     "name": "stderr",
     "output_type": "stream",
     "text": [
      " 17%|█▋        | 12/69 [16:13<2:59:11, 188.63s/it]"
     ]
    },
    {
     "name": "stdout",
     "output_type": "stream",
     "text": [
      "Image loaded, Analizying...\n"
     ]
    },
    {
     "name": "stderr",
     "output_type": "stream",
     "text": [
      " 19%|█▉        | 13/69 [16:39<2:10:10, 139.48s/it]"
     ]
    },
    {
     "name": "stdout",
     "output_type": "stream",
     "text": [
      "Image loaded, Analizying...\n"
     ]
    },
    {
     "name": "stderr",
     "output_type": "stream",
     "text": [
      " 20%|██        | 14/69 [16:43<1:30:19, 98.53s/it] "
     ]
    },
    {
     "name": "stdout",
     "output_type": "stream",
     "text": [
      "Chessboard detected!\n",
      "./calibration_images/IMG_7803.JPG\n",
      "Image loaded, Analizying...\n"
     ]
    },
    {
     "name": "stderr",
     "output_type": "stream",
     "text": [
      " 22%|██▏       | 15/69 [17:13<1:09:58, 77.74s/it]"
     ]
    },
    {
     "name": "stdout",
     "output_type": "stream",
     "text": [
      "Image loaded, Analizying...\n"
     ]
    },
    {
     "name": "stderr",
     "output_type": "stream",
     "text": [
      " 23%|██▎       | 16/69 [17:37<54:32, 61.75s/it]  "
     ]
    },
    {
     "name": "stdout",
     "output_type": "stream",
     "text": [
      "Image loaded, Analizying...\n"
     ]
    },
    {
     "name": "stderr",
     "output_type": "stream",
     "text": [
      " 25%|██▍       | 17/69 [17:42<38:31, 44.44s/it]"
     ]
    },
    {
     "name": "stdout",
     "output_type": "stream",
     "text": [
      "Chessboard detected!\n",
      "./calibration_images/IMG_7802.JPG\n",
      "Image loaded, Analizying...\n"
     ]
    },
    {
     "name": "stderr",
     "output_type": "stream",
     "text": [
      " 26%|██▌       | 18/69 [17:51<28:53, 33.99s/it]"
     ]
    },
    {
     "name": "stdout",
     "output_type": "stream",
     "text": [
      "Chessboard detected!\n",
      "./calibration_images/IMG_7779.JPG\n",
      "Image loaded, Analizying...\n"
     ]
    },
    {
     "name": "stderr",
     "output_type": "stream",
     "text": [
      " 28%|██▊       | 19/69 [18:17<26:18, 31.58s/it]"
     ]
    },
    {
     "name": "stdout",
     "output_type": "stream",
     "text": [
      "Image loaded, Analizying...\n"
     ]
    },
    {
     "name": "stderr",
     "output_type": "stream",
     "text": [
      " 29%|██▉       | 20/69 [18:22<19:16, 23.60s/it]"
     ]
    },
    {
     "name": "stdout",
     "output_type": "stream",
     "text": [
      "Chessboard detected!\n",
      "./calibration_images/IMG_7792.JPG\n",
      "Image loaded, Analizying...\n"
     ]
    },
    {
     "name": "stderr",
     "output_type": "stream",
     "text": [
      " 30%|███       | 21/69 [18:49<19:37, 24.54s/it]"
     ]
    },
    {
     "name": "stdout",
     "output_type": "stream",
     "text": [
      "Chessboard detected!\n",
      "./calibration_images/IMG_7796.JPG\n",
      "Image loaded, Analizying...\n"
     ]
    },
    {
     "name": "stderr",
     "output_type": "stream",
     "text": [
      " 32%|███▏      | 22/69 [19:00<16:01, 20.45s/it]"
     ]
    },
    {
     "name": "stdout",
     "output_type": "stream",
     "text": [
      "Chessboard detected!\n",
      "./calibration_images/IMG_7782.JPG\n",
      "Image loaded, Analizying...\n"
     ]
    },
    {
     "name": "stderr",
     "output_type": "stream",
     "text": [
      " 33%|███▎      | 23/69 [19:04<12:00, 15.67s/it]"
     ]
    },
    {
     "name": "stdout",
     "output_type": "stream",
     "text": [
      "Chessboard detected!\n",
      "./calibration_images/IMG_7769.JPG\n",
      "Image loaded, Analizying...\n"
     ]
    },
    {
     "name": "stderr",
     "output_type": "stream",
     "text": [
      " 35%|███▍      | 24/69 [19:18<11:12, 14.95s/it]"
     ]
    },
    {
     "name": "stdout",
     "output_type": "stream",
     "text": [
      "Chessboard detected!\n",
      "./calibration_images/IMG_7806.JPG\n",
      "Image loaded, Analizying...\n"
     ]
    },
    {
     "name": "stderr",
     "output_type": "stream",
     "text": [
      " 36%|███▌      | 25/69 [19:38<12:11, 16.62s/it]"
     ]
    },
    {
     "name": "stdout",
     "output_type": "stream",
     "text": [
      "Chessboard detected!\n",
      "./calibration_images/IMG_7812.JPG\n",
      "Image loaded, Analizying...\n"
     ]
    },
    {
     "name": "stderr",
     "output_type": "stream",
     "text": [
      " 38%|███▊      | 26/69 [19:44<09:34, 13.36s/it]"
     ]
    },
    {
     "name": "stdout",
     "output_type": "stream",
     "text": [
      "Chessboard detected!\n",
      "./calibration_images/IMG_7813.JPG\n",
      "Image loaded, Analizying...\n"
     ]
    },
    {
     "name": "stderr",
     "output_type": "stream",
     "text": [
      " 39%|███▉      | 27/69 [20:30<16:13, 23.18s/it]"
     ]
    },
    {
     "name": "stdout",
     "output_type": "stream",
     "text": [
      "Image loaded, Analizying...\n"
     ]
    },
    {
     "name": "stderr",
     "output_type": "stream",
     "text": [
      " 41%|████      | 28/69 [20:35<12:09, 17.79s/it]"
     ]
    },
    {
     "name": "stdout",
     "output_type": "stream",
     "text": [
      "Chessboard detected!\n",
      "./calibration_images/IMG_7783.JPG\n",
      "Image loaded, Analizying...\n"
     ]
    },
    {
     "name": "stderr",
     "output_type": "stream",
     "text": [
      " 42%|████▏     | 29/69 [20:39<09:06, 13.67s/it]"
     ]
    },
    {
     "name": "stdout",
     "output_type": "stream",
     "text": [
      "Chessboard detected!\n",
      "./calibration_images/IMG_7797.JPG\n",
      "Image loaded, Analizying...\n"
     ]
    },
    {
     "name": "stderr",
     "output_type": "stream",
     "text": [
      " 43%|████▎     | 30/69 [20:59<10:06, 15.55s/it]"
     ]
    },
    {
     "name": "stdout",
     "output_type": "stream",
     "text": [
      "Image loaded, Analizying...\n"
     ]
    },
    {
     "name": "stderr",
     "output_type": "stream",
     "text": [
      " 45%|████▍     | 31/69 [21:03<07:32, 11.92s/it]"
     ]
    },
    {
     "name": "stdout",
     "output_type": "stream",
     "text": [
      "Chessboard detected!\n",
      "./calibration_images/IMG_7795.JPG\n",
      "Image loaded, Analizying...\n"
     ]
    },
    {
     "name": "stderr",
     "output_type": "stream",
     "text": [
      " 46%|████▋     | 32/69 [21:09<06:14, 10.12s/it]"
     ]
    },
    {
     "name": "stdout",
     "output_type": "stream",
     "text": [
      "Chessboard detected!\n",
      "./calibration_images/IMG_7811.JPG\n",
      "Image loaded, Analizying...\n"
     ]
    },
    {
     "name": "stderr",
     "output_type": "stream",
     "text": [
      " 48%|████▊     | 33/69 [21:13<05:03,  8.44s/it]"
     ]
    },
    {
     "name": "stdout",
     "output_type": "stream",
     "text": [
      "Chessboard detected!\n",
      "./calibration_images/IMG_7805.JPG\n",
      "Image loaded, Analizying...\n"
     ]
    },
    {
     "name": "stderr",
     "output_type": "stream",
     "text": [
      " 49%|████▉     | 34/69 [21:18<04:12,  7.21s/it]"
     ]
    },
    {
     "name": "stdout",
     "output_type": "stream",
     "text": [
      "Chessboard detected!\n",
      "./calibration_images/IMG_7804.JPG\n",
      "Image loaded, Analizying...\n"
     ]
    },
    {
     "name": "stderr",
     "output_type": "stream",
     "text": [
      " 51%|█████     | 35/69 [21:24<03:53,  6.87s/it]"
     ]
    },
    {
     "name": "stdout",
     "output_type": "stream",
     "text": [
      "Chessboard detected!\n",
      "./calibration_images/IMG_7810.JPG\n",
      "Image loaded, Analizying...\n"
     ]
    },
    {
     "name": "stderr",
     "output_type": "stream",
     "text": [
      " 52%|█████▏    | 36/69 [21:29<03:28,  6.31s/it]"
     ]
    },
    {
     "name": "stdout",
     "output_type": "stream",
     "text": [
      "Chessboard detected!\n",
      "./calibration_images/IMG_7794.JPG\n",
      "Image loaded, Analizying...\n"
     ]
    },
    {
     "name": "stderr",
     "output_type": "stream",
     "text": [
      " 54%|█████▎    | 37/69 [21:56<06:48, 12.76s/it]"
     ]
    },
    {
     "name": "stdout",
     "output_type": "stream",
     "text": [
      "Image loaded, Analizying...\n"
     ]
    },
    {
     "name": "stderr",
     "output_type": "stream",
     "text": [
      " 55%|█████▌    | 38/69 [22:31<10:00, 19.36s/it]"
     ]
    },
    {
     "name": "stdout",
     "output_type": "stream",
     "text": [
      "Chessboard detected!\n",
      "./calibration_images/IMG_7799.JPG\n",
      "Image loaded, Analizying...\n"
     ]
    },
    {
     "name": "stderr",
     "output_type": "stream",
     "text": [
      " 57%|█████▋    | 39/69 [22:56<10:27, 20.92s/it]"
     ]
    },
    {
     "name": "stdout",
     "output_type": "stream",
     "text": [
      "Image loaded, Analizying...\n"
     ]
    },
    {
     "name": "stderr",
     "output_type": "stream",
     "text": [
      " 58%|█████▊    | 40/69 [23:38<13:08, 27.19s/it]"
     ]
    },
    {
     "name": "stdout",
     "output_type": "stream",
     "text": [
      "Image loaded, Analizying...\n"
     ]
    },
    {
     "name": "stderr",
     "output_type": "stream",
     "text": [
      " 59%|█████▉    | 41/69 [24:05<12:43, 27.27s/it]"
     ]
    },
    {
     "name": "stdout",
     "output_type": "stream",
     "text": [
      "Image loaded, Analizying...\n"
     ]
    },
    {
     "name": "stderr",
     "output_type": "stream",
     "text": [
      " 61%|██████    | 42/69 [24:11<09:23, 20.86s/it]"
     ]
    },
    {
     "name": "stdout",
     "output_type": "stream",
     "text": [
      "Chessboard detected!\n",
      "./calibration_images/IMG_7809.JPG\n",
      "Image loaded, Analizying...\n"
     ]
    },
    {
     "name": "stderr",
     "output_type": "stream",
     "text": [
      " 62%|██████▏   | 43/69 [24:17<07:07, 16.44s/it]"
     ]
    },
    {
     "name": "stdout",
     "output_type": "stream",
     "text": [
      "Chessboard detected!\n",
      "./calibration_images/IMG_7808.JPG\n",
      "Image loaded, Analizying...\n"
     ]
    },
    {
     "name": "stderr",
     "output_type": "stream",
     "text": [
      " 64%|██████▍   | 44/69 [25:01<10:20, 24.82s/it]"
     ]
    },
    {
     "name": "stdout",
     "output_type": "stream",
     "text": [
      "Image loaded, Analizying...\n"
     ]
    },
    {
     "name": "stderr",
     "output_type": "stream",
     "text": [
      " 65%|██████▌   | 45/69 [25:08<07:45, 19.41s/it]"
     ]
    },
    {
     "name": "stdout",
     "output_type": "stream",
     "text": [
      "Chessboard detected!\n",
      "./calibration_images/IMG_7834.JPG\n",
      "Image loaded, Analizying...\n"
     ]
    },
    {
     "name": "stderr",
     "output_type": "stream",
     "text": [
      " 67%|██████▋   | 46/69 [25:12<05:38, 14.70s/it]"
     ]
    },
    {
     "name": "stdout",
     "output_type": "stream",
     "text": [
      "Chessboard detected!\n",
      "./calibration_images/IMG_7773.JPG\n",
      "Image loaded, Analizying...\n"
     ]
    },
    {
     "name": "stderr",
     "output_type": "stream",
     "text": [
      " 68%|██████▊   | 47/69 [25:30<05:45, 15.71s/it]"
     ]
    },
    {
     "name": "stdout",
     "output_type": "stream",
     "text": [
      "Chessboard detected!\n",
      "./calibration_images/IMG_7798.JPG\n",
      "Image loaded, Analizying...\n"
     ]
    },
    {
     "name": "stderr",
     "output_type": "stream",
     "text": [
      " 70%|██████▉   | 48/69 [25:45<05:23, 15.42s/it]"
     ]
    },
    {
     "name": "stdout",
     "output_type": "stream",
     "text": [
      "Chessboard detected!\n",
      "./calibration_images/IMG_7771.JPG\n",
      "Image loaded, Analizying...\n"
     ]
    },
    {
     "name": "stderr",
     "output_type": "stream",
     "text": [
      " 71%|███████   | 49/69 [25:50<04:10, 12.50s/it]"
     ]
    },
    {
     "name": "stdout",
     "output_type": "stream",
     "text": [
      "Chessboard detected!\n",
      "./calibration_images/IMG_7822.JPG\n",
      "Image loaded, Analizying...\n"
     ]
    },
    {
     "name": "stderr",
     "output_type": "stream",
     "text": [
      " 72%|███████▏  | 50/69 [26:42<07:38, 24.15s/it]"
     ]
    },
    {
     "name": "stdout",
     "output_type": "stream",
     "text": [
      "Image loaded, Analizying...\n"
     ]
    },
    {
     "name": "stderr",
     "output_type": "stream",
     "text": [
      " 74%|███████▍  | 51/69 [27:18<08:20, 27.79s/it]"
     ]
    },
    {
     "name": "stdout",
     "output_type": "stream",
     "text": [
      "Chessboard detected!\n",
      "./calibration_images/IMG_7837.JPG\n",
      "Image loaded, Analizying...\n"
     ]
    },
    {
     "name": "stderr",
     "output_type": "stream",
     "text": [
      " 75%|███████▌  | 52/69 [27:23<05:54, 20.88s/it]"
     ]
    },
    {
     "name": "stdout",
     "output_type": "stream",
     "text": [
      "Chessboard detected!\n",
      "./calibration_images/IMG_7823.JPG\n",
      "Image loaded, Analizying...\n"
     ]
    },
    {
     "name": "stderr",
     "output_type": "stream",
     "text": [
      " 77%|███████▋  | 53/69 [27:27<04:14, 15.89s/it]"
     ]
    },
    {
     "name": "stdout",
     "output_type": "stream",
     "text": [
      "Chessboard detected!\n",
      "./calibration_images/IMG_7770.JPG\n",
      "Image loaded, Analizying...\n"
     ]
    },
    {
     "name": "stderr",
     "output_type": "stream",
     "text": [
      " 78%|███████▊  | 54/69 [27:40<03:44, 15.00s/it]"
     ]
    },
    {
     "name": "stdout",
     "output_type": "stream",
     "text": [
      "Chessboard detected!\n",
      "./calibration_images/IMG_7774.JPG\n",
      "Image loaded, Analizying...\n"
     ]
    },
    {
     "name": "stderr",
     "output_type": "stream",
     "text": [
      " 80%|███████▉  | 55/69 [28:08<04:23, 18.85s/it]"
     ]
    },
    {
     "name": "stdout",
     "output_type": "stream",
     "text": [
      "Image loaded, Analizying...\n"
     ]
    },
    {
     "name": "stderr",
     "output_type": "stream",
     "text": [
      " 81%|████████  | 56/69 [28:24<03:55, 18.12s/it]"
     ]
    },
    {
     "name": "stdout",
     "output_type": "stream",
     "text": [
      "Chessboard detected!\n",
      "./calibration_images/IMG_7833.JPG\n",
      "Image loaded, Analizying...\n"
     ]
    },
    {
     "name": "stderr",
     "output_type": "stream",
     "text": [
      " 83%|████████▎ | 57/69 [28:31<02:58, 14.84s/it]"
     ]
    },
    {
     "name": "stdout",
     "output_type": "stream",
     "text": [
      "Chessboard detected!\n",
      "./calibration_images/IMG_7832.JPG\n",
      "Image loaded, Analizying...\n"
     ]
    },
    {
     "name": "stderr",
     "output_type": "stream",
     "text": [
      " 84%|████████▍ | 58/69 [28:46<02:43, 14.84s/it]"
     ]
    },
    {
     "name": "stdout",
     "output_type": "stream",
     "text": [
      "Chessboard detected!\n",
      "./calibration_images/IMG_7826.JPG\n",
      "Image loaded, Analizying...\n"
     ]
    },
    {
     "name": "stderr",
     "output_type": "stream",
     "text": [
      " 86%|████████▌ | 59/69 [28:51<01:56, 11.68s/it]"
     ]
    },
    {
     "name": "stdout",
     "output_type": "stream",
     "text": [
      "Chessboard detected!\n",
      "./calibration_images/IMG_7775.JPG\n",
      "Image loaded, Analizying...\n"
     ]
    },
    {
     "name": "stderr",
     "output_type": "stream",
     "text": [
      " 87%|████████▋ | 60/69 [29:15<02:20, 15.64s/it]"
     ]
    },
    {
     "name": "stdout",
     "output_type": "stream",
     "text": [
      "Image loaded, Analizying...\n"
     ]
    },
    {
     "name": "stderr",
     "output_type": "stream",
     "text": [
      " 88%|████████▊ | 61/69 [29:40<02:26, 18.30s/it]"
     ]
    },
    {
     "name": "stdout",
     "output_type": "stream",
     "text": [
      "Image loaded, Analizying...\n"
     ]
    },
    {
     "name": "stderr",
     "output_type": "stream",
     "text": [
      " 90%|████████▉ | 62/69 [29:45<01:40, 14.34s/it]"
     ]
    },
    {
     "name": "stdout",
     "output_type": "stream",
     "text": [
      "Chessboard detected!\n",
      "./calibration_images/IMG_7818.JPG\n",
      "Image loaded, Analizying...\n"
     ]
    },
    {
     "name": "stderr",
     "output_type": "stream",
     "text": [
      " 91%|█████████▏| 63/69 [29:51<01:11, 11.88s/it]"
     ]
    },
    {
     "name": "stdout",
     "output_type": "stream",
     "text": [
      "Chessboard detected!\n",
      "./calibration_images/IMG_7830.JPG\n",
      "Image loaded, Analizying...\n"
     ]
    },
    {
     "name": "stderr",
     "output_type": "stream",
     "text": [
      " 93%|█████████▎| 64/69 [30:28<01:36, 19.35s/it]"
     ]
    },
    {
     "name": "stdout",
     "output_type": "stream",
     "text": [
      "Image loaded, Analizying...\n"
     ]
    },
    {
     "name": "stderr",
     "output_type": "stream",
     "text": [
      " 94%|█████████▍| 65/69 [31:06<01:39, 24.97s/it]"
     ]
    },
    {
     "name": "stdout",
     "output_type": "stream",
     "text": [
      "Image loaded, Analizying...\n"
     ]
    },
    {
     "name": "stderr",
     "output_type": "stream",
     "text": [
      " 96%|█████████▌| 66/69 [31:30<01:14, 24.75s/it]"
     ]
    },
    {
     "name": "stdout",
     "output_type": "stream",
     "text": [
      "Chessboard detected!\n",
      "./calibration_images/IMG_7831.JPG\n",
      "Image loaded, Analizying...\n"
     ]
    },
    {
     "name": "stderr",
     "output_type": "stream",
     "text": [
      " 97%|█████████▋| 67/69 [32:01<00:53, 26.58s/it]"
     ]
    },
    {
     "name": "stdout",
     "output_type": "stream",
     "text": [
      "Image loaded, Analizying...\n"
     ]
    },
    {
     "name": "stderr",
     "output_type": "stream",
     "text": [
      " 99%|█████████▊| 68/69 [32:18<00:23, 23.78s/it]"
     ]
    },
    {
     "name": "stdout",
     "output_type": "stream",
     "text": [
      "Chessboard detected!\n",
      "./calibration_images/IMG_7776.JPG\n",
      "Image loaded, Analizying...\n"
     ]
    },
    {
     "name": "stderr",
     "output_type": "stream",
     "text": [
      "100%|██████████| 69/69 [32:41<00:00, 28.42s/it]"
     ]
    },
    {
     "name": "stdout",
     "output_type": "stream",
     "text": [
      "Chessboard detected!\n",
      "./calibration_images/IMG_7789.JPG\n"
     ]
    },
    {
     "name": "stderr",
     "output_type": "stream",
     "text": [
      "\n"
     ]
    }
   ],
   "source": [
    "'''\n",
    "Created by Omar Padierna \"Para11ax\" on Jan 1 2019\n",
    "\n",
    " This program is free software: you can redistribute it and/or modify\n",
    " it under the terms of the GNU General Public License as published by\n",
    " the Free Software Foundation, either version 3 of the License, or\n",
    " (at your option) any later version.\n",
    "\n",
    " This program is distributed in the hope that it will be useful,\n",
    " but WITHOUT ANY WARRANTY; without even the implied warranty of\n",
    " MERCHANTABILITY or FITNESS FOR A PARTICULAR PURPOSE.  See the\n",
    " GNU General Public License for more details.\n",
    "\n",
    "'''\n",
    "\n",
    "\n",
    "import cv2\n",
    "import numpy as np \n",
    "import glob\n",
    "from tqdm import tqdm\n",
    "import PIL.ExifTags\n",
    "import PIL.Image\n",
    "\n",
    "#============================================\n",
    "# Camera calibration\n",
    "#============================================\n",
    "\n",
    "#Define size of chessboard target. \n",
    "\n",
    "chessboard_size = (7,5)\n",
    "\n",
    "#Define arrays to save detected points\n",
    "obj_points = [] #3D points in real world space \n",
    "img_points = [] #3D points in image plane\n",
    "\n",
    "#Prepare grid and points to display\n",
    "\n",
    "objp = np.zeros((np.prod(chessboard_size),3),dtype=np.float32)\n",
    "\n",
    "\n",
    "objp[:,:2] = np.mgrid[0:chessboard_size[0], 0:chessboard_size[1]].T.reshape(-1,2)\n",
    "\n",
    "#read images\n",
    "\n",
    "calibration_paths = glob.glob('./calibration_images/*')\n",
    "\n",
    "#Iterate over images to find intrinsic matrix\n",
    "for image_path in tqdm(calibration_paths):\n",
    "\n",
    "\t#Load image\n",
    "\timage = cv2.imread(image_path)\n",
    "\tgray_image = cv2.cvtColor(image, cv2.COLOR_BGR2GRAY)\n",
    "\tprint(\"Image loaded, Analizying...\")\n",
    "\t#find chessboard corners\n",
    "\tret,corners = cv2.findChessboardCorners(gray_image, chessboard_size, None)\n",
    "\n",
    "\tif ret == True:\n",
    "\t\tprint(\"Chessboard detected!\")\n",
    "\t\tprint(image_path)\n",
    "\t\t#define criteria for subpixel accuracy\n",
    "\t\tcriteria = (cv2.TERM_CRITERIA_EPS + cv2.TERM_CRITERIA_MAX_ITER, 30, 0.001)\n",
    "\t\t#refine corner location (to subpixel accuracy) based on criteria.\n",
    "\t\tcv2.cornerSubPix(gray_image, corners, (5,5), (-1,-1), criteria)\n",
    "\t\tobj_points.append(objp)\n",
    "\t\timg_points.append(corners)\n",
    "\n",
    "#Calibrate camera\n",
    "ret, K, dist, rvecs, tvecs = cv2.calibrateCamera(obj_points, img_points,gray_image.shape[::-1], None, None)"
   ]
  },
  {
   "cell_type": "code",
   "execution_count": 5,
   "id": "54f8a609-b7e6-4baf-b8ce-837c579ad0ac",
   "metadata": {},
   "outputs": [],
   "source": [
    "#Save parameters into numpy file\n",
    "np.save(\"./camera_params/ret\", ret)\n",
    "np.save(\"./camera_params/K\", K)\n",
    "np.save(\"./camera_params/dist\", dist)\n",
    "np.save(\"./camera_params/rvecs\", rvecs)\n",
    "np.save(\"./camera_params/tvecs\", tvecs)"
   ]
  },
  {
   "cell_type": "code",
   "execution_count": 14,
   "id": "3b4ace9a-a580-4044-a3b7-a865da116bd9",
   "metadata": {},
   "outputs": [
    {
     "data": {
      "text/plain": [
       "(47, 3, 1)"
      ]
     },
     "execution_count": 14,
     "metadata": {},
     "output_type": "execute_result"
    }
   ],
   "source": [
    "np.shape(rvecs)"
   ]
  },
  {
   "cell_type": "code",
   "execution_count": 16,
   "id": "f58d1b13-882e-4961-b7d9-f18fa901a0ff",
   "metadata": {},
   "outputs": [
    {
     "ename": "TypeError",
     "evalue": "'IFDRational' object is not subscriptable",
     "output_type": "error",
     "traceback": [
      "\u001b[0;31m---------------------------------------------------------------------------\u001b[0m",
      "\u001b[0;31mTypeError\u001b[0m                                 Traceback (most recent call last)",
      "\u001b[0;32m/var/folders/pr/ws1tbsfj34qdfnhsy76x7g100000gn/T/ipykernel_87980/714092857.py\u001b[0m in \u001b[0;36m<module>\u001b[0;34m\u001b[0m\n\u001b[1;32m     11\u001b[0m \u001b[0;34m\u001b[0m\u001b[0m\n\u001b[1;32m     12\u001b[0m \u001b[0;31m#Get focal length in decimal form\u001b[0m\u001b[0;34m\u001b[0m\u001b[0;34m\u001b[0m\u001b[0m\n\u001b[0;32m---> 13\u001b[0;31m \u001b[0mfocal_length\u001b[0m \u001b[0;34m=\u001b[0m \u001b[0mfocal_length_exif\u001b[0m\u001b[0;34m[\u001b[0m\u001b[0;36m0\u001b[0m\u001b[0;34m]\u001b[0m\u001b[0;34m/\u001b[0m\u001b[0mfocal_length_exif\u001b[0m\u001b[0;34m[\u001b[0m\u001b[0;36m1\u001b[0m\u001b[0;34m]\u001b[0m\u001b[0;34m\u001b[0m\u001b[0;34m\u001b[0m\u001b[0m\n\u001b[0m\u001b[1;32m     14\u001b[0m \u001b[0;34m\u001b[0m\u001b[0m\n\u001b[1;32m     15\u001b[0m \u001b[0;31m#Save focal length\u001b[0m\u001b[0;34m\u001b[0m\u001b[0;34m\u001b[0m\u001b[0m\n",
      "\u001b[0;31mTypeError\u001b[0m: 'IFDRational' object is not subscriptable"
     ]
    }
   ],
   "source": [
    "#Get exif data in order to get focal length. \n",
    "exif_img = PIL.Image.open(calibration_paths[0])\n",
    "\n",
    "exif_data = {\n",
    "\tPIL.ExifTags.TAGS[k]:v\n",
    "\tfor k, v in exif_img._getexif().items()\n",
    "\tif k in PIL.ExifTags.TAGS}\n",
    "\n",
    "#Get focal length in tuple form\n",
    "focal_length_exif = exif_data['FocalLength']\n",
    "\n",
    "#Get focal length in decimal form\n",
    "focal_length = focal_length_exif[0]/focal_length_exif[1]\n",
    "\n",
    "#Save focal length\n",
    "np.save(\"./camera_params/FocalLength\", focal_length)\n",
    "\n",
    "#Calculate projection error. \n",
    "mean_error = 0\n",
    "for i in range(len(obj_points)):\n",
    "\timg_points2, _ = cv2.projectPoints(obj_points[i],rvecs[i],tvecs[i], K, dist)\n",
    "\terror = cv2.norm(img_points[i], img_points2, cv2.NORM_L2)/len(img_points2)\n",
    "\tmean_error += error\n",
    "\n",
    "total_error = mean_error/len(obj_points)\n",
    "print (total_error)"
   ]
  },
  {
   "cell_type": "code",
   "execution_count": null,
   "id": "db636f3b-4a32-4c6e-990e-cb82c1b2baa7",
   "metadata": {},
   "outputs": [],
   "source": []
  }
 ],
 "metadata": {
  "kernelspec": {
   "display_name": "Python 3 (ipykernel)",
   "language": "python",
   "name": "python3"
  },
  "language_info": {
   "codemirror_mode": {
    "name": "ipython",
    "version": 3
   },
   "file_extension": ".py",
   "mimetype": "text/x-python",
   "name": "python",
   "nbconvert_exporter": "python",
   "pygments_lexer": "ipython3",
   "version": "3.9.7"
  }
 },
 "nbformat": 4,
 "nbformat_minor": 5
}
