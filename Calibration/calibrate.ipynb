{
 "cells": [
  {
   "cell_type": "code",
   "execution_count": 2,
   "id": "3026c3dd-3511-460a-8740-335a1809f1dc",
   "metadata": {},
   "outputs": [
    {
     "name": "stderr",
     "output_type": "stream",
     "text": [
      "  0%|          | 0/69 [00:00<?, ?it/s]"
     ]
    },
    {
     "name": "stdout",
     "output_type": "stream",
     "text": [
      "Image loaded, Analizying...\n"
     ]
    },
    {
     "name": "stderr",
     "output_type": "stream",
     "text": [
      "  1%|▏         | 1/69 [00:04<05:32,  4.89s/it]"
     ]
    },
    {
     "name": "stdout",
     "output_type": "stream",
     "text": [
      "Chessboard detected!\n",
      "./calibration_images/IMG_7784.JPG\n",
      "Image loaded, Analizying...\n"
     ]
    },
    {
     "name": "stderr",
     "output_type": "stream",
     "text": [
      "  3%|▎         | 2/69 [00:09<05:34,  4.99s/it]"
     ]
    },
    {
     "name": "stdout",
     "output_type": "stream",
     "text": [
      "Chessboard detected!\n",
      "./calibration_images/IMG_7790.JPG\n",
      "Image loaded, Analizying...\n"
     ]
    },
    {
     "name": "stderr",
     "output_type": "stream",
     "text": [
      "  4%|▍         | 3/69 [00:14<05:31,  5.02s/it]"
     ]
    },
    {
     "name": "stdout",
     "output_type": "stream",
     "text": [
      "Chessboard detected!\n",
      "./calibration_images/IMG_7814.JPG\n",
      "Image loaded, Analizying...\n"
     ]
    },
    {
     "name": "stderr",
     "output_type": "stream",
     "text": [
      "  6%|▌         | 4/69 [01:04<24:22, 22.51s/it]"
     ]
    },
    {
     "name": "stdout",
     "output_type": "stream",
     "text": [
      "Image loaded, Analizying...\n"
     ]
    },
    {
     "name": "stderr",
     "output_type": "stream",
     "text": [
      "  7%|▋         | 5/69 [01:08<17:08, 16.07s/it]"
     ]
    },
    {
     "name": "stdout",
     "output_type": "stream",
     "text": [
      "Chessboard detected!\n",
      "./calibration_images/IMG_7828.JPG\n",
      "Image loaded, Analizying...\n"
     ]
    },
    {
     "name": "stderr",
     "output_type": "stream",
     "text": [
      "  9%|▊         | 6/69 [01:14<13:16, 12.64s/it]"
     ]
    },
    {
     "name": "stdout",
     "output_type": "stream",
     "text": [
      "Chessboard detected!\n",
      "./calibration_images/IMG_7829.JPG\n",
      "Image loaded, Analizying...\n"
     ]
    },
    {
     "name": "stderr",
     "output_type": "stream",
     "text": [
      " 10%|█         | 7/69 [01:33<14:56, 14.46s/it]"
     ]
    },
    {
     "name": "stdout",
     "output_type": "stream",
     "text": [
      "Chessboard detected!\n",
      "./calibration_images/IMG_7801.JPG\n",
      "Image loaded, Analizying...\n"
     ]
    },
    {
     "name": "stderr",
     "output_type": "stream",
     "text": [
      " 12%|█▏        | 8/69 [01:38<11:43, 11.53s/it]"
     ]
    },
    {
     "name": "stdout",
     "output_type": "stream",
     "text": [
      "Chessboard detected!\n",
      "./calibration_images/IMG_7815.JPG\n",
      "Image loaded, Analizying...\n"
     ]
    },
    {
     "name": "stderr",
     "output_type": "stream",
     "text": [
      " 13%|█▎        | 9/69 [02:05<16:25, 16.43s/it]"
     ]
    },
    {
     "name": "stdout",
     "output_type": "stream",
     "text": [
      "Image loaded, Analizying...\n"
     ]
    },
    {
     "name": "stderr",
     "output_type": "stream",
     "text": [
      " 14%|█▍        | 10/69 [02:09<12:16, 12.48s/it]"
     ]
    },
    {
     "name": "stdout",
     "output_type": "stream",
     "text": [
      "Chessboard detected!\n",
      "./calibration_images/IMG_7785.JPG\n",
      "Image loaded, Analizying...\n"
     ]
    },
    {
     "name": "stderr",
     "output_type": "stream",
     "text": [
      " 16%|█▌        | 11/69 [02:58<23:03, 23.85s/it]"
     ]
    },
    {
     "name": "stdout",
     "output_type": "stream",
     "text": [
      "Image loaded, Analizying...\n"
     ]
    },
    {
     "name": "stderr",
     "output_type": "stream",
     "text": [
      " 17%|█▋        | 12/69 [03:25<23:32, 24.78s/it]"
     ]
    },
    {
     "name": "stdout",
     "output_type": "stream",
     "text": [
      "Image loaded, Analizying...\n"
     ]
    },
    {
     "name": "stderr",
     "output_type": "stream",
     "text": [
      " 19%|█▉        | 13/69 [03:52<23:48, 25.50s/it]"
     ]
    },
    {
     "name": "stdout",
     "output_type": "stream",
     "text": [
      "Image loaded, Analizying...\n"
     ]
    },
    {
     "name": "stderr",
     "output_type": "stream",
     "text": [
      " 20%|██        | 14/69 [03:56<17:24, 19.00s/it]"
     ]
    },
    {
     "name": "stdout",
     "output_type": "stream",
     "text": [
      "Chessboard detected!\n",
      "./calibration_images/IMG_7803.JPG\n",
      "Image loaded, Analizying...\n"
     ]
    },
    {
     "name": "stderr",
     "output_type": "stream",
     "text": [
      " 22%|██▏       | 15/69 [04:26<20:04, 22.30s/it]"
     ]
    },
    {
     "name": "stdout",
     "output_type": "stream",
     "text": [
      "Image loaded, Analizying...\n"
     ]
    },
    {
     "name": "stderr",
     "output_type": "stream",
     "text": [
      " 23%|██▎       | 16/69 [04:51<20:17, 22.98s/it]"
     ]
    },
    {
     "name": "stdout",
     "output_type": "stream",
     "text": [
      "Image loaded, Analizying...\n"
     ]
    },
    {
     "name": "stderr",
     "output_type": "stream",
     "text": [
      " 25%|██▍       | 17/69 [04:55<15:01, 17.34s/it]"
     ]
    },
    {
     "name": "stdout",
     "output_type": "stream",
     "text": [
      "Chessboard detected!\n",
      "./calibration_images/IMG_7802.JPG\n",
      "Image loaded, Analizying...\n"
     ]
    },
    {
     "name": "stderr",
     "output_type": "stream",
     "text": [
      " 26%|██▌       | 18/69 [05:05<12:46, 15.04s/it]"
     ]
    },
    {
     "name": "stdout",
     "output_type": "stream",
     "text": [
      "Chessboard detected!\n",
      "./calibration_images/IMG_7779.JPG\n",
      "Image loaded, Analizying...\n"
     ]
    },
    {
     "name": "stderr",
     "output_type": "stream",
     "text": [
      " 28%|██▊       | 19/69 [05:32<15:34, 18.70s/it]"
     ]
    },
    {
     "name": "stdout",
     "output_type": "stream",
     "text": [
      "Image loaded, Analizying...\n"
     ]
    },
    {
     "name": "stderr",
     "output_type": "stream",
     "text": [
      " 29%|██▉       | 20/69 [05:37<11:59, 14.67s/it]"
     ]
    },
    {
     "name": "stdout",
     "output_type": "stream",
     "text": [
      "Chessboard detected!\n",
      "./calibration_images/IMG_7792.JPG\n",
      "Image loaded, Analizying...\n"
     ]
    },
    {
     "name": "stderr",
     "output_type": "stream",
     "text": [
      " 30%|███       | 21/69 [06:05<14:45, 18.46s/it]"
     ]
    },
    {
     "name": "stdout",
     "output_type": "stream",
     "text": [
      "Chessboard detected!\n",
      "./calibration_images/IMG_7796.JPG\n",
      "Image loaded, Analizying...\n"
     ]
    },
    {
     "name": "stderr",
     "output_type": "stream",
     "text": [
      " 32%|███▏      | 22/69 [06:16<12:47, 16.32s/it]"
     ]
    },
    {
     "name": "stdout",
     "output_type": "stream",
     "text": [
      "Chessboard detected!\n",
      "./calibration_images/IMG_7782.JPG\n",
      "Image loaded, Analizying...\n"
     ]
    },
    {
     "name": "stderr",
     "output_type": "stream",
     "text": [
      " 33%|███▎      | 23/69 [06:21<09:48, 12.80s/it]"
     ]
    },
    {
     "name": "stdout",
     "output_type": "stream",
     "text": [
      "Chessboard detected!\n",
      "./calibration_images/IMG_7769.JPG\n",
      "Image loaded, Analizying...\n"
     ]
    },
    {
     "name": "stderr",
     "output_type": "stream",
     "text": [
      " 35%|███▍      | 24/69 [06:34<09:45, 13.00s/it]"
     ]
    },
    {
     "name": "stdout",
     "output_type": "stream",
     "text": [
      "Chessboard detected!\n",
      "./calibration_images/IMG_7806.JPG\n",
      "Image loaded, Analizying...\n"
     ]
    },
    {
     "name": "stderr",
     "output_type": "stream",
     "text": [
      " 36%|███▌      | 25/69 [06:55<11:13, 15.32s/it]"
     ]
    },
    {
     "name": "stdout",
     "output_type": "stream",
     "text": [
      "Chessboard detected!\n",
      "./calibration_images/IMG_7812.JPG\n",
      "Image loaded, Analizying...\n"
     ]
    },
    {
     "name": "stderr",
     "output_type": "stream",
     "text": [
      " 38%|███▊      | 26/69 [07:01<08:56, 12.47s/it]"
     ]
    },
    {
     "name": "stdout",
     "output_type": "stream",
     "text": [
      "Chessboard detected!\n",
      "./calibration_images/IMG_7813.JPG\n",
      "Image loaded, Analizying...\n"
     ]
    },
    {
     "name": "stderr",
     "output_type": "stream",
     "text": [
      " 39%|███▉      | 27/69 [07:48<16:04, 22.97s/it]"
     ]
    },
    {
     "name": "stdout",
     "output_type": "stream",
     "text": [
      "Image loaded, Analizying...\n"
     ]
    },
    {
     "name": "stderr",
     "output_type": "stream",
     "text": [
      " 41%|████      | 28/69 [07:53<12:05, 17.69s/it]"
     ]
    },
    {
     "name": "stdout",
     "output_type": "stream",
     "text": [
      "Chessboard detected!\n",
      "./calibration_images/IMG_7783.JPG\n",
      "Image loaded, Analizying...\n"
     ]
    },
    {
     "name": "stderr",
     "output_type": "stream",
     "text": [
      " 42%|████▏     | 29/69 [07:58<09:05, 13.63s/it]"
     ]
    },
    {
     "name": "stdout",
     "output_type": "stream",
     "text": [
      "Chessboard detected!\n",
      "./calibration_images/IMG_7797.JPG\n",
      "Image loaded, Analizying...\n"
     ]
    },
    {
     "name": "stderr",
     "output_type": "stream",
     "text": [
      " 43%|████▎     | 30/69 [08:18<10:10, 15.64s/it]"
     ]
    },
    {
     "name": "stdout",
     "output_type": "stream",
     "text": [
      "Image loaded, Analizying...\n"
     ]
    },
    {
     "name": "stderr",
     "output_type": "stream",
     "text": [
      " 45%|████▍     | 31/69 [08:21<07:36, 12.00s/it]"
     ]
    },
    {
     "name": "stdout",
     "output_type": "stream",
     "text": [
      "Chessboard detected!\n",
      "./calibration_images/IMG_7795.JPG\n",
      "Image loaded, Analizying...\n"
     ]
    },
    {
     "name": "stderr",
     "output_type": "stream",
     "text": [
      " 46%|████▋     | 32/69 [08:27<06:17, 10.21s/it]"
     ]
    },
    {
     "name": "stdout",
     "output_type": "stream",
     "text": [
      "Chessboard detected!\n",
      "./calibration_images/IMG_7811.JPG\n",
      "Image loaded, Analizying...\n"
     ]
    },
    {
     "name": "stderr",
     "output_type": "stream",
     "text": [
      " 48%|████▊     | 33/69 [08:32<05:06,  8.52s/it]"
     ]
    },
    {
     "name": "stdout",
     "output_type": "stream",
     "text": [
      "Chessboard detected!\n",
      "./calibration_images/IMG_7805.JPG\n",
      "Image loaded, Analizying...\n"
     ]
    },
    {
     "name": "stderr",
     "output_type": "stream",
     "text": [
      " 49%|████▉     | 34/69 [08:36<04:14,  7.26s/it]"
     ]
    },
    {
     "name": "stdout",
     "output_type": "stream",
     "text": [
      "Chessboard detected!\n",
      "./calibration_images/IMG_7804.JPG\n",
      "Image loaded, Analizying...\n"
     ]
    },
    {
     "name": "stderr",
     "output_type": "stream",
     "text": [
      " 51%|█████     | 35/69 [08:42<03:54,  6.89s/it]"
     ]
    },
    {
     "name": "stdout",
     "output_type": "stream",
     "text": [
      "Chessboard detected!\n",
      "./calibration_images/IMG_7810.JPG\n",
      "Image loaded, Analizying...\n"
     ]
    },
    {
     "name": "stderr",
     "output_type": "stream",
     "text": [
      " 52%|█████▏    | 36/69 [08:47<03:29,  6.35s/it]"
     ]
    },
    {
     "name": "stdout",
     "output_type": "stream",
     "text": [
      "Chessboard detected!\n",
      "./calibration_images/IMG_7794.JPG\n",
      "Image loaded, Analizying...\n"
     ]
    },
    {
     "name": "stderr",
     "output_type": "stream",
     "text": [
      " 54%|█████▎    | 37/69 [09:16<06:55, 12.98s/it]"
     ]
    },
    {
     "name": "stdout",
     "output_type": "stream",
     "text": [
      "Image loaded, Analizying...\n"
     ]
    },
    {
     "name": "stderr",
     "output_type": "stream",
     "text": [
      " 55%|█████▌    | 38/69 [09:52<10:15, 19.85s/it]"
     ]
    },
    {
     "name": "stdout",
     "output_type": "stream",
     "text": [
      "Chessboard detected!\n",
      "./calibration_images/IMG_7799.JPG\n",
      "Image loaded, Analizying...\n"
     ]
    },
    {
     "name": "stderr",
     "output_type": "stream",
     "text": [
      " 57%|█████▋    | 39/69 [10:17<10:39, 21.32s/it]"
     ]
    },
    {
     "name": "stdout",
     "output_type": "stream",
     "text": [
      "Image loaded, Analizying...\n"
     ]
    },
    {
     "name": "stderr",
     "output_type": "stream",
     "text": [
      " 58%|█████▊    | 40/69 [10:59<13:25, 27.78s/it]"
     ]
    },
    {
     "name": "stdout",
     "output_type": "stream",
     "text": [
      "Image loaded, Analizying...\n"
     ]
    },
    {
     "name": "stderr",
     "output_type": "stream",
     "text": [
      " 59%|█████▉    | 41/69 [11:28<13:01, 27.90s/it]"
     ]
    },
    {
     "name": "stdout",
     "output_type": "stream",
     "text": [
      "Image loaded, Analizying...\n"
     ]
    },
    {
     "name": "stderr",
     "output_type": "stream",
     "text": [
      " 61%|██████    | 42/69 [11:34<09:35, 21.32s/it]"
     ]
    },
    {
     "name": "stdout",
     "output_type": "stream",
     "text": [
      "Chessboard detected!\n",
      "./calibration_images/IMG_7809.JPG\n",
      "Image loaded, Analizying...\n"
     ]
    },
    {
     "name": "stderr",
     "output_type": "stream",
     "text": [
      " 62%|██████▏   | 43/69 [11:40<07:16, 16.79s/it]"
     ]
    },
    {
     "name": "stdout",
     "output_type": "stream",
     "text": [
      "Chessboard detected!\n",
      "./calibration_images/IMG_7808.JPG\n",
      "Image loaded, Analizying...\n"
     ]
    },
    {
     "name": "stderr",
     "output_type": "stream",
     "text": [
      " 64%|██████▍   | 44/69 [12:25<10:32, 25.31s/it]"
     ]
    },
    {
     "name": "stdout",
     "output_type": "stream",
     "text": [
      "Image loaded, Analizying...\n"
     ]
    },
    {
     "name": "stderr",
     "output_type": "stream",
     "text": [
      " 65%|██████▌   | 45/69 [12:32<07:55, 19.79s/it]"
     ]
    },
    {
     "name": "stdout",
     "output_type": "stream",
     "text": [
      "Chessboard detected!\n",
      "./calibration_images/IMG_7834.JPG\n",
      "Image loaded, Analizying...\n"
     ]
    },
    {
     "name": "stderr",
     "output_type": "stream",
     "text": [
      " 67%|██████▋   | 46/69 [12:36<05:44, 15.00s/it]"
     ]
    },
    {
     "name": "stdout",
     "output_type": "stream",
     "text": [
      "Chessboard detected!\n",
      "./calibration_images/IMG_7773.JPG\n",
      "Image loaded, Analizying...\n"
     ]
    },
    {
     "name": "stderr",
     "output_type": "stream",
     "text": [
      " 68%|██████▊   | 47/69 [12:54<05:52, 16.00s/it]"
     ]
    },
    {
     "name": "stdout",
     "output_type": "stream",
     "text": [
      "Chessboard detected!\n",
      "./calibration_images/IMG_7798.JPG\n",
      "Image loaded, Analizying...\n"
     ]
    },
    {
     "name": "stderr",
     "output_type": "stream",
     "text": [
      " 70%|██████▉   | 48/69 [13:09<05:28, 15.64s/it]"
     ]
    },
    {
     "name": "stdout",
     "output_type": "stream",
     "text": [
      "Chessboard detected!\n",
      "./calibration_images/IMG_7771.JPG\n",
      "Image loaded, Analizying...\n"
     ]
    },
    {
     "name": "stderr",
     "output_type": "stream",
     "text": [
      " 71%|███████   | 49/69 [13:15<04:13, 12.69s/it]"
     ]
    },
    {
     "name": "stdout",
     "output_type": "stream",
     "text": [
      "Chessboard detected!\n",
      "./calibration_images/IMG_7822.JPG\n",
      "Image loaded, Analizying...\n"
     ]
    },
    {
     "name": "stderr",
     "output_type": "stream",
     "text": [
      " 72%|███████▏  | 50/69 [14:06<07:43, 24.37s/it]"
     ]
    },
    {
     "name": "stdout",
     "output_type": "stream",
     "text": [
      "Image loaded, Analizying...\n"
     ]
    },
    {
     "name": "stderr",
     "output_type": "stream",
     "text": [
      " 74%|███████▍  | 51/69 [14:43<08:27, 28.22s/it]"
     ]
    },
    {
     "name": "stdout",
     "output_type": "stream",
     "text": [
      "Chessboard detected!\n",
      "./calibration_images/IMG_7837.JPG\n",
      "Image loaded, Analizying...\n"
     ]
    },
    {
     "name": "stderr",
     "output_type": "stream",
     "text": [
      " 75%|███████▌  | 52/69 [14:48<06:00, 21.18s/it]"
     ]
    },
    {
     "name": "stdout",
     "output_type": "stream",
     "text": [
      "Chessboard detected!\n",
      "./calibration_images/IMG_7823.JPG\n",
      "Image loaded, Analizying...\n"
     ]
    },
    {
     "name": "stderr",
     "output_type": "stream",
     "text": [
      " 77%|███████▋  | 53/69 [14:52<04:17, 16.11s/it]"
     ]
    },
    {
     "name": "stdout",
     "output_type": "stream",
     "text": [
      "Chessboard detected!\n",
      "./calibration_images/IMG_7770.JPG\n",
      "Image loaded, Analizying...\n"
     ]
    },
    {
     "name": "stderr",
     "output_type": "stream",
     "text": [
      " 78%|███████▊  | 54/69 [15:05<03:47, 15.18s/it]"
     ]
    },
    {
     "name": "stdout",
     "output_type": "stream",
     "text": [
      "Chessboard detected!\n",
      "./calibration_images/IMG_7774.JPG\n",
      "Image loaded, Analizying...\n"
     ]
    },
    {
     "name": "stderr",
     "output_type": "stream",
     "text": [
      " 80%|███████▉  | 55/69 [15:34<04:27, 19.08s/it]"
     ]
    },
    {
     "name": "stdout",
     "output_type": "stream",
     "text": [
      "Image loaded, Analizying...\n"
     ]
    },
    {
     "name": "stderr",
     "output_type": "stream",
     "text": [
      " 81%|████████  | 56/69 [15:50<03:58, 18.35s/it]"
     ]
    },
    {
     "name": "stdout",
     "output_type": "stream",
     "text": [
      "Chessboard detected!\n",
      "./calibration_images/IMG_7833.JPG\n",
      "Image loaded, Analizying...\n"
     ]
    },
    {
     "name": "stderr",
     "output_type": "stream",
     "text": [
      " 83%|████████▎ | 57/69 [15:58<03:00, 15.07s/it]"
     ]
    },
    {
     "name": "stdout",
     "output_type": "stream",
     "text": [
      "Chessboard detected!\n",
      "./calibration_images/IMG_7832.JPG\n",
      "Image loaded, Analizying...\n"
     ]
    },
    {
     "name": "stderr",
     "output_type": "stream",
     "text": [
      " 84%|████████▍ | 58/69 [16:13<02:45, 15.07s/it]"
     ]
    },
    {
     "name": "stdout",
     "output_type": "stream",
     "text": [
      "Chessboard detected!\n",
      "./calibration_images/IMG_7826.JPG\n",
      "Image loaded, Analizying...\n"
     ]
    },
    {
     "name": "stderr",
     "output_type": "stream",
     "text": [
      " 86%|████████▌ | 59/69 [16:17<01:58, 11.86s/it]"
     ]
    },
    {
     "name": "stdout",
     "output_type": "stream",
     "text": [
      "Chessboard detected!\n",
      "./calibration_images/IMG_7775.JPG\n",
      "Image loaded, Analizying...\n"
     ]
    },
    {
     "name": "stderr",
     "output_type": "stream",
     "text": [
      " 87%|████████▋ | 60/69 [16:42<02:22, 15.79s/it]"
     ]
    },
    {
     "name": "stdout",
     "output_type": "stream",
     "text": [
      "Image loaded, Analizying...\n"
     ]
    },
    {
     "name": "stderr",
     "output_type": "stream",
     "text": [
      " 88%|████████▊ | 61/69 [17:06<02:26, 18.34s/it]"
     ]
    },
    {
     "name": "stdout",
     "output_type": "stream",
     "text": [
      "Image loaded, Analizying...\n"
     ]
    },
    {
     "name": "stderr",
     "output_type": "stream",
     "text": [
      " 90%|████████▉ | 62/69 [17:11<01:40, 14.35s/it]"
     ]
    },
    {
     "name": "stdout",
     "output_type": "stream",
     "text": [
      "Chessboard detected!\n",
      "./calibration_images/IMG_7818.JPG\n",
      "Image loaded, Analizying...\n"
     ]
    },
    {
     "name": "stderr",
     "output_type": "stream",
     "text": [
      " 91%|█████████▏| 63/69 [17:18<01:11, 11.90s/it]"
     ]
    },
    {
     "name": "stdout",
     "output_type": "stream",
     "text": [
      "Chessboard detected!\n",
      "./calibration_images/IMG_7830.JPG\n",
      "Image loaded, Analizying...\n"
     ]
    },
    {
     "name": "stderr",
     "output_type": "stream",
     "text": [
      " 93%|█████████▎| 64/69 [17:54<01:36, 19.35s/it]"
     ]
    },
    {
     "name": "stdout",
     "output_type": "stream",
     "text": [
      "Image loaded, Analizying...\n"
     ]
    },
    {
     "name": "stderr",
     "output_type": "stream",
     "text": [
      " 94%|█████████▍| 65/69 [18:33<01:40, 25.04s/it]"
     ]
    },
    {
     "name": "stdout",
     "output_type": "stream",
     "text": [
      "Image loaded, Analizying...\n"
     ]
    },
    {
     "name": "stderr",
     "output_type": "stream",
     "text": [
      " 96%|█████████▌| 66/69 [18:57<01:14, 24.69s/it]"
     ]
    },
    {
     "name": "stdout",
     "output_type": "stream",
     "text": [
      "Chessboard detected!\n",
      "./calibration_images/IMG_7831.JPG\n",
      "Image loaded, Analizying...\n"
     ]
    },
    {
     "name": "stderr",
     "output_type": "stream",
     "text": [
      " 97%|█████████▋| 67/69 [19:27<00:53, 26.55s/it]"
     ]
    },
    {
     "name": "stdout",
     "output_type": "stream",
     "text": [
      "Image loaded, Analizying...\n"
     ]
    },
    {
     "name": "stderr",
     "output_type": "stream",
     "text": [
      " 99%|█████████▊| 68/69 [19:45<00:23, 23.80s/it]"
     ]
    },
    {
     "name": "stdout",
     "output_type": "stream",
     "text": [
      "Chessboard detected!\n",
      "./calibration_images/IMG_7776.JPG\n",
      "Image loaded, Analizying...\n"
     ]
    },
    {
     "name": "stderr",
     "output_type": "stream",
     "text": [
      "100%|██████████| 69/69 [20:07<00:00, 17.51s/it]"
     ]
    },
    {
     "name": "stdout",
     "output_type": "stream",
     "text": [
      "Chessboard detected!\n",
      "./calibration_images/IMG_7789.JPG\n"
     ]
    },
    {
     "name": "stderr",
     "output_type": "stream",
     "text": [
      "\n"
     ]
    }
   ],
   "source": [
    "'''\n",
    "Created by Omar Padierna \"Para11ax\" on Jan 1 2019\n",
    "\n",
    " This program is free software: you can redistribute it and/or modify\n",
    " it under the terms of the GNU General Public License as published by\n",
    " the Free Software Foundation, either version 3 of the License, or\n",
    " (at your option) any later version.\n",
    "\n",
    " This program is distributed in the hope that it will be useful,\n",
    " but WITHOUT ANY WARRANTY; without even the implied warranty of\n",
    " MERCHANTABILITY or FITNESS FOR A PARTICULAR PURPOSE.  See the\n",
    " GNU General Public License for more details.\n",
    "\n",
    "'''\n",
    "\n",
    "\n",
    "import cv2\n",
    "import numpy as np \n",
    "import glob\n",
    "from tqdm import tqdm\n",
    "import PIL.ExifTags\n",
    "import PIL.Image\n",
    "\n",
    "#============================================\n",
    "# Camera calibration\n",
    "#============================================\n",
    "\n",
    "#Define size of chessboard target. \n",
    "\n",
    "chessboard_size = (7,5)\n",
    "\n",
    "#Define arrays to save detected points\n",
    "obj_points = [] #3D points in real world space \n",
    "img_points = [] #3D points in image plane\n",
    "\n",
    "#Prepare grid and points to display\n",
    "\n",
    "objp = np.zeros((np.prod(chessboard_size),3),dtype=np.float32)\n",
    "\n",
    "\n",
    "objp[:,:2] = np.mgrid[0:chessboard_size[0], 0:chessboard_size[1]].T.reshape(-1,2)\n",
    "\n",
    "#read images\n",
    "\n",
    "calibration_paths = glob.glob('./calibration_images/*')\n",
    "\n",
    "#Iterate over images to find intrinsic matrix\n",
    "for image_path in tqdm(calibration_paths):\n",
    "\n",
    "\t#Load image\n",
    "\timage = cv2.imread(image_path)\n",
    "\tgray_image = cv2.cvtColor(image, cv2.COLOR_BGR2GRAY)\n",
    "\tprint(\"Image loaded, Analizying...\")\n",
    "\t#find chessboard corners\n",
    "\tret,corners = cv2.findChessboardCorners(gray_image, chessboard_size, None)\n",
    "\n",
    "\tif ret == True:\n",
    "\t\tprint(\"Chessboard detected!\")\n",
    "\t\tprint(image_path)\n",
    "\t\t#define criteria for subpixel accuracy\n",
    "\t\tcriteria = (cv2.TERM_CRITERIA_EPS + cv2.TERM_CRITERIA_MAX_ITER, 30, 0.001)\n",
    "\t\t#refine corner location (to subpixel accuracy) based on criteria.\n",
    "\t\tcv2.cornerSubPix(gray_image, corners, (5,5), (-1,-1), criteria)\n",
    "\t\tobj_points.append(objp)\n",
    "\t\timg_points.append(corners)\n",
    "\n",
    "#Calibrate camera\n",
    "ret, K, dist, rvecs, tvecs = cv2.calibrateCamera(obj_points, img_points,gray_image.shape[::-1], None, None)"
   ]
  },
  {
   "cell_type": "code",
   "execution_count": 3,
   "id": "54f8a609-b7e6-4baf-b8ce-837c579ad0ac",
   "metadata": {},
   "outputs": [],
   "source": [
    "#Save parameters into numpy file\n",
    "np.save(\"./camera_params/ret\", ret)\n",
    "np.save(\"./camera_params/K\", K)\n",
    "np.save(\"./camera_params/dist\", dist)\n",
    "np.save(\"./camera_params/rvecs\", rvecs)\n",
    "np.save(\"./camera_params/tvecs\", tvecs)"
   ]
  },
  {
   "cell_type": "code",
   "execution_count": 8,
   "id": "3b4ace9a-a580-4044-a3b7-a865da116bd9",
   "metadata": {},
   "outputs": [
    {
     "data": {
      "text/plain": [
       "3.99"
      ]
     },
     "execution_count": 8,
     "metadata": {},
     "output_type": "execute_result"
    }
   ],
   "source": [
    "focal_length_exif"
   ]
  },
  {
   "cell_type": "code",
   "execution_count": 11,
   "id": "f58d1b13-882e-4961-b7d9-f18fa901a0ff",
   "metadata": {},
   "outputs": [
    {
     "ename": "TypeError",
     "evalue": "'IFDRational' object is not subscriptable",
     "output_type": "error",
     "traceback": [
      "\u001b[0;31m---------------------------------------------------------------------------\u001b[0m",
      "\u001b[0;31mTypeError\u001b[0m                                 Traceback (most recent call last)",
      "\u001b[0;32m/var/folders/pr/ws1tbsfj34qdfnhsy76x7g100000gn/T/ipykernel_92759/714092857.py\u001b[0m in \u001b[0;36m<module>\u001b[0;34m\u001b[0m\n\u001b[1;32m     11\u001b[0m \u001b[0;34m\u001b[0m\u001b[0m\n\u001b[1;32m     12\u001b[0m \u001b[0;31m#Get focal length in decimal form\u001b[0m\u001b[0;34m\u001b[0m\u001b[0;34m\u001b[0m\u001b[0m\n\u001b[0;32m---> 13\u001b[0;31m \u001b[0mfocal_length\u001b[0m \u001b[0;34m=\u001b[0m \u001b[0mfocal_length_exif\u001b[0m\u001b[0;34m[\u001b[0m\u001b[0;36m0\u001b[0m\u001b[0;34m]\u001b[0m\u001b[0;34m/\u001b[0m\u001b[0mfocal_length_exif\u001b[0m\u001b[0;34m[\u001b[0m\u001b[0;36m1\u001b[0m\u001b[0;34m]\u001b[0m\u001b[0;34m\u001b[0m\u001b[0;34m\u001b[0m\u001b[0m\n\u001b[0m\u001b[1;32m     14\u001b[0m \u001b[0;34m\u001b[0m\u001b[0m\n\u001b[1;32m     15\u001b[0m \u001b[0;31m#Save focal length\u001b[0m\u001b[0;34m\u001b[0m\u001b[0;34m\u001b[0m\u001b[0m\n",
      "\u001b[0;31mTypeError\u001b[0m: 'IFDRational' object is not subscriptable"
     ]
    }
   ],
   "source": [
    "#Get exif data in order to get focal length. \n",
    "exif_img = PIL.Image.open(calibration_paths[0])\n",
    "\n",
    "exif_data = {\n",
    "\tPIL.ExifTags.TAGS[k]:v\n",
    "\tfor k, v in exif_img._getexif().items()\n",
    "\tif k in PIL.ExifTags.TAGS}\n",
    "\n",
    "#Get focal length in tuple form\n",
    "focal_length_exif = exif_data['FocalLength']\n",
    "\n",
    "#Get focal length in decimal form\n",
    "focal_length = focal_length_exif[0]/focal_length_exif[1]\n",
    "\n",
    "#Save focal length\n",
    "np.save(\"./camera_params/FocalLength\", focal_length)\n",
    "\n",
    "#Calculate projection error. \n",
    "mean_error = 0\n",
    "for i in range(len(obj_points)):\n",
    "\timg_points2, _ = cv2.projectPoints(obj_points[i],rvecs[i],tvecs[i], K, dist)\n",
    "\terror = cv2.norm(img_points[i], img_points2, cv2.NORM_L2)/len(img_points2)\n",
    "\tmean_error += error\n",
    "\n",
    "total_error = mean_error/len(obj_points)\n",
    "print (total_error)"
   ]
  },
  {
   "cell_type": "code",
   "execution_count": null,
   "id": "db636f3b-4a32-4c6e-990e-cb82c1b2baa7",
   "metadata": {},
   "outputs": [],
   "source": []
  }
 ],
 "metadata": {
  "kernelspec": {
   "display_name": "Python 3 (ipykernel)",
   "language": "python",
   "name": "python3"
  },
  "language_info": {
   "codemirror_mode": {
    "name": "ipython",
    "version": 3
   },
   "file_extension": ".py",
   "mimetype": "text/x-python",
   "name": "python",
   "nbconvert_exporter": "python",
   "pygments_lexer": "ipython3",
   "version": "3.9.7"
  }
 },
 "nbformat": 4,
 "nbformat_minor": 5
}
